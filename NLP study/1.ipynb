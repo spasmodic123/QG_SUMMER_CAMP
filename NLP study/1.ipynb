{
 "cells": [
  {
   "cell_type": "code",
   "execution_count": 13,
   "metadata": {
    "collapsed": true,
    "pycharm": {
     "name": "#%%\n"
    }
   },
   "outputs": [],
   "source": [
    "import numpy as np\n",
    "import matplotlib.pyplot as plt\n",
    "from sklearn.decomposition import PCA\n",
    "import gensim.downloader as api\n",
    "from gensim.models import  KeyedVectors"
   ]
  },
  {
   "cell_type": "code",
   "execution_count": 14,
   "outputs": [
    {
     "name": "stdout",
     "output_type": "stream",
     "text": [
      "<class 'gensim.models.keyedvectors.KeyedVectors'>\n"
     ]
    }
   ],
   "source": [
    "model = api.load(\"glove-wiki-gigaword-100\")\n",
    "print(type(model))"
   ],
   "metadata": {
    "collapsed": false,
    "pycharm": {
     "name": "#%%\n"
    }
   }
  },
  {
   "cell_type": "code",
   "execution_count": 15,
   "outputs": [
    {
     "data": {
      "text/plain": "array([-0.66146  ,  0.94335  , -0.72214  ,  0.17403  , -0.42524  ,\n        0.36303  ,  1.0135   , -0.14802  ,  0.25817  , -0.20326  ,\n       -0.64338  ,  0.16632  ,  0.61518  ,  1.397    , -0.094506 ,\n        0.0041843, -0.18976  , -0.55421  , -0.39371  , -0.22501  ,\n       -0.34643  ,  0.32076  ,  0.34395  , -0.7034   ,  0.23932  ,\n        0.69951  , -0.16461  , -0.31819  , -0.34034  , -0.44906  ,\n       -0.069667 ,  0.35348  ,  0.17498  , -0.95057  , -0.2209   ,\n        1.0647   ,  0.23231  ,  0.32569  ,  0.47662  , -1.1206   ,\n        0.28168  , -0.75172  , -0.54654  , -0.66337  ,  0.34804  ,\n       -0.69058  , -0.77092  , -0.40167  , -0.069351 , -0.049238 ,\n       -0.39351  ,  0.16735  , -0.14512  ,  1.0083   , -1.0608   ,\n       -0.87314  , -0.29339  ,  0.68278  ,  0.61634  , -0.088844 ,\n        0.88094  ,  0.099809 , -0.27161  , -0.58026  ,  0.50364  ,\n       -0.93814  ,  0.67576  , -0.43124  , -0.10517  , -1.2404   ,\n       -0.74353  ,  0.28637  ,  0.29012  ,  0.89377  ,  0.67406  ,\n        0.86422  , -0.30693  , -0.14718  ,  0.078353 ,  0.74013  ,\n        0.32658  , -0.052579 , -1.1665   ,  0.87079  , -0.69402  ,\n       -0.75977  , -0.37164  , -0.11887  ,  0.18551  ,  0.041883 ,\n        0.59352  ,  0.30519  , -0.54819  , -0.29424  , -1.4912   ,\n       -1.6548   ,  0.98982  ,  0.27325  ,  1.009    ,  0.94544  ],\n      dtype=float32)"
     },
     "execution_count": 15,
     "metadata": {},
     "output_type": "execute_result"
    }
   ],
   "source": [
    "'''查看面包bread的向量'''\n",
    "model['bread']"
   ],
   "metadata": {
    "collapsed": false,
    "pycharm": {
     "name": "#%%\n"
    }
   }
  },
  {
   "cell_type": "code",
   "execution_count": 16,
   "outputs": [
    {
     "data": {
      "text/plain": "array([ 0.66248  ,  0.0465   ,  0.65824  , -0.83239  ,  0.48056  ,\n        0.16532  ,  0.49798  ,  0.91432  , -0.59839  , -0.73442  ,\n        0.34925  , -1.0748   , -0.30741  ,  0.23528  , -0.13811  ,\n        0.26147  ,  0.91223  ,  0.4808   , -0.98355  ,  0.094881 ,\n        0.34377  ,  0.89543  ,  0.080254 ,  1.2519   , -0.070073 ,\n        0.428    ,  1.097    , -0.20908  ,  0.71924  ,  0.32205  ,\n       -0.25515  ,  1.0279   , -0.30288  ,  0.29141  ,  0.59946  ,\n       -0.14588  , -0.21653  ,  0.12999  , -0.10332  , -0.033253 ,\n       -0.31617  , -0.1181   , -0.69212  ,  0.12883  , -0.14499  ,\n       -0.46295  ,  0.16782  ,  0.11226  , -0.078737 , -1.0705   ,\n       -0.3456   ,  0.74443  , -0.19443  , -0.39079  , -0.095691 ,\n       -2.1465   ,  0.14057  ,  0.092974 ,  0.99492  ,  0.18504  ,\n        0.17809  , -0.3496   ,  0.39649  , -0.042782 ,  0.66287  ,\n       -0.21653  , -0.32607  ,  0.79601  ,  0.55549  ,  0.97721  ,\n        0.22742  ,  0.67935  , -0.35781  ,  0.30683  ,  0.13565  ,\n       -0.19302  ,  0.9361   , -0.16826  , -0.74078  , -0.0099871,\n        0.18888  , -0.68267  ,  0.14826  ,  0.54765  , -0.015156 ,\n       -0.11059  , -0.40357  , -0.2062   ,  0.62521  ,  0.32213  ,\n       -0.16744  , -0.13671  ,  0.55605  ,  0.095844 , -0.51273  ,\n        0.095166 , -0.34666  ,  0.03209  ,  0.72381  ,  0.36807  ],\n      dtype=float32)"
     },
     "execution_count": 16,
     "metadata": {},
     "output_type": "execute_result"
    }
   ],
   "source": [
    "model['usa']"
   ],
   "metadata": {
    "collapsed": false,
    "pycharm": {
     "name": "#%%\n"
    }
   }
  },
  {
   "cell_type": "code",
   "execution_count": 17,
   "outputs": [
    {
     "data": {
      "text/plain": "[('coconut', 0.7097253203392029),\n ('mango', 0.7054824233055115),\n ('bananas', 0.6887733936309814),\n ('potato', 0.6629636287689209),\n ('pineapple', 0.6534532308578491),\n ('fruit', 0.6519854664802551),\n ('peanut', 0.6420575976371765),\n ('pecan', 0.6349172592163086),\n ('cashew', 0.6294420957565308),\n ('papaya', 0.6246591210365295)]"
     },
     "execution_count": 17,
     "metadata": {},
     "output_type": "execute_result"
    }
   ],
   "source": [
    "'similar to banana'\n",
    "model.most_similar('banana')"
   ],
   "metadata": {
    "collapsed": false,
    "pycharm": {
     "name": "#%%\n"
    }
   }
  },
  {
   "cell_type": "code",
   "execution_count": 18,
   "outputs": [],
   "source": [
    "'单词类比'\n",
    "'x1+y1-x2'\n",
    "def analogy(x1,y1,x2):\n",
    "    result = model.most_similar(positive=[x1, y1], negative=[x2])\n",
    "    return result"
   ],
   "metadata": {
    "collapsed": false,
    "pycharm": {
     "name": "#%%\n"
    }
   }
  },
  {
   "cell_type": "code",
   "execution_count": 19,
   "outputs": [
    {
     "name": "stdout",
     "output_type": "stream",
     "text": [
      "prince\n"
     ]
    }
   ],
   "source": [
    "'man + king - woman = prince'\n",
    "result = analogy('man','king','woman')\n",
    "print(result[0][0])"
   ],
   "metadata": {
    "collapsed": false,
    "pycharm": {
     "name": "#%%\n"
    }
   }
  },
  {
   "cell_type": "code",
   "execution_count": 19,
   "outputs": [],
   "source": [],
   "metadata": {
    "collapsed": false,
    "pycharm": {
     "name": "#%%\n"
    }
   }
  }
 ],
 "metadata": {
  "kernelspec": {
   "display_name": "Python 3",
   "language": "python",
   "name": "python3"
  },
  "language_info": {
   "codemirror_mode": {
    "name": "ipython",
    "version": 2
   },
   "file_extension": ".py",
   "mimetype": "text/x-python",
   "name": "python",
   "nbconvert_exporter": "python",
   "pygments_lexer": "ipython2",
   "version": "2.7.6"
  }
 },
 "nbformat": 4,
 "nbformat_minor": 0
}